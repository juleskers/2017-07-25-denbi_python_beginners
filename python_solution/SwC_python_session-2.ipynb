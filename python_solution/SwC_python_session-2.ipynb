{
 "cells": [
  {
   "cell_type": "markdown",
   "metadata": {},
   "source": [
    "# Python session - 2\n",
    "\n",
    "## Flow Control statements\n",
    "\n",
    "Flow control statements allows Python to take a decision and do different things depending on different situations using `if` or `else` statements or `for` loops."
   ]
  },
  {
   "cell_type": "markdown",
   "metadata": {},
   "source": [
    "## if statements"
   ]
  },
  {
   "cell_type": "code",
   "execution_count": 5,
   "metadata": {
    "collapsed": false
   },
   "outputs": [
    {
     "name": "stdout",
     "output_type": "stream",
     "text": [
      "Warm weather\n"
     ]
    }
   ],
   "source": [
    "# Check if the temperature is > 25 (degrees)\n",
    "temperature = 26 \n",
    "if temperature > 25:\n",
    "    print('Warm weather')"
   ]
  },
  {
   "cell_type": "code",
   "execution_count": 6,
   "metadata": {
    "collapsed": true
   },
   "outputs": [],
   "source": [
    "# Change value of the temperature and run it again\n",
    "temperature = 15 \n",
    "if temperature > 25:\n",
    "    print('Warm weather')\n",
    "## This would not give any output as the condition wasn't satisfied"
   ]
  },
  {
   "cell_type": "markdown",
   "metadata": {},
   "source": [
    "## if/else statements"
   ]
  },
  {
   "cell_type": "code",
   "execution_count": 8,
   "metadata": {
    "collapsed": false
   },
   "outputs": [
    {
     "name": "stdout",
     "output_type": "stream",
     "text": [
      "Hopefully a pleasant weather!\n"
     ]
    }
   ],
   "source": [
    "temperature = 20\n",
    "if temperature > 25:\n",
    "    print('Warm weather')\n",
    "else:\n",
    "    print('Hopefully a pleasant weather!')"
   ]
  },
  {
   "cell_type": "markdown",
   "metadata": {},
   "source": [
    "### Multiple conditions can be given by introducing `elif` statement"
   ]
  },
  {
   "cell_type": "code",
   "execution_count": 10,
   "metadata": {
    "collapsed": false
   },
   "outputs": [
    {
     "name": "stdout",
     "output_type": "stream",
     "text": [
      "Not very Warm\n"
     ]
    }
   ],
   "source": [
    "temperature = 20\n",
    "if temperature > 25:\n",
    "    print('Warm weather')\n",
    "elif temperature <= 20:\n",
    "    print('Not very Warm')\n",
    "elif temperature == 20:\n",
    "    print('Pleasant weather')\n",
    "else:\n",
    "    print('I do not care about the weather')"
   ]
  },
  {
   "cell_type": "markdown",
   "metadata": {},
   "source": [
    "## Exercise - 1\n",
    "\n",
    "We can interact with the commandline/terminal using `input()`, try it out by giving a value to the temperature on the commandline\n"
   ]
  },
  {
   "cell_type": "code",
   "execution_count": null,
   "metadata": {
    "collapsed": false
   },
   "outputs": [],
   "source": [
    "temperature = input()"
   ]
  },
  {
   "cell_type": "code",
   "execution_count": null,
   "metadata": {
    "collapsed": true
   },
   "outputs": [],
   "source": [
    "# Now use it in a block of code\n",
    "\n",
    "temperature = input()\n",
    "if ...:\n",
    "    ...\n",
    "elif ...:\n",
    "    ...\n",
    "else:\n",
    "    ..."
   ]
  },
  {
   "cell_type": "markdown",
   "metadata": {},
   "source": [
    "#### Adding even more conditions (conditions inside conditions)\n",
    "\n",
    "#### Option - 1: \n",
    "not so elegant nested if statements"
   ]
  },
  {
   "cell_type": "code",
   "execution_count": null,
   "metadata": {
    "collapsed": true
   },
   "outputs": [],
   "source": [
    "if ...:\n",
    "    if ...:\n",
    "        ...\n",
    "    elif ...:\n",
    "        ...\n",
    "    else ...:\n",
    "        ...\n",
    "elif ...:\n",
    "    if ...:\n",
    "        ...\n",
    "    elif ...:\n",
    "        ...\n",
    "    else ...:\n",
    "        ...\n",
    "elif ...:\n",
    "    ...\n",
    "else:\n",
    "    ..."
   ]
  },
  {
   "cell_type": "markdown",
   "metadata": {},
   "source": [
    "#### Option - 2: \n",
    "connecting conditions by Boolean (and, or, not)"
   ]
  },
  {
   "cell_type": "code",
   "execution_count": 11,
   "metadata": {
    "collapsed": false
   },
   "outputs": [
    {
     "name": "stdout",
     "output_type": "stream",
     "text": [
      "Pleasant temperature in summer\n"
     ]
    }
   ],
   "source": [
    "temperature = 26\n",
    "if temperature > 20 and temperature < 30:\n",
    "    print('Pleasant temperature in summer')\n",
    "elif temperature > 20 and temperature < 25:\n",
    "    print('This is a tropical weather')\n",
    "else:\n",
    "    print('Tempertaure varies a lot')\n"
   ]
  },
  {
   "cell_type": "code",
   "execution_count": 17,
   "metadata": {
    "collapsed": false
   },
   "outputs": [
    {
     "name": "stdout",
     "output_type": "stream",
     "text": [
      "...but the first argument is right!\n"
     ]
    }
   ],
   "source": [
    "# Give temperature a value < 25 and check what happens if you replace 'and' with 'or'\n",
    "# Note: English's *or* and Python's *or* are not always same.\n",
    "if temperature > 25 and not temperature <40:\n",
    "    print('I do not think this a valid argument')\n",
    "if temperature > 25 or not temperature <40:\n",
    "    print('...but the first argument is right!')"
   ]
  },
  {
   "cell_type": "markdown",
   "metadata": {},
   "source": [
    "## Exercise - 2\n"
   ]
  },
  {
   "cell_type": "code",
   "execution_count": 20,
   "metadata": {
    "collapsed": false
   },
   "outputs": [
    {
     "name": "stdout",
     "output_type": "stream",
     "text": [
      "True\n",
      "False\n"
     ]
    }
   ],
   "source": [
    "# Check if a variable or data type for example, a list (my_list) exists (not empty)\n",
    "my_list = ['name', 'place', 'thing', '999']\n",
    "if my_list:\n",
    "    print(True)\n",
    "my_new_list = []\n",
    "if my_new_list:\n",
    "    print(True)\n",
    "else:\n",
    "    print(False)"
   ]
  },
  {
   "cell_type": "code",
   "execution_count": 25,
   "metadata": {
    "collapsed": false
   },
   "outputs": [
    {
     "name": "stdout",
     "output_type": "stream",
     "text": [
      "Python exists in my_string\n"
     ]
    }
   ],
   "source": [
    "# Check if an item exists in a string (hint: look for my_item in my_string)...\n",
    "# else print \"{} does not contain {}\".format(my_string, my_item)\n",
    "\n",
    "my_string = \"Whether you're new to programming or an experienced developer, it's easy to learn and use Python.\"\n",
    "my_item = \"Python\"\n",
    "if my_item in my_string:\n",
    "    print(\"{} exists in {}\".format(my_item, 'my_string'))\n",
    "else:\n",
    "    print(\"{} does not contain {}\".format('my_string', my_item))"
   ]
  },
  {
   "cell_type": "code",
   "execution_count": 23,
   "metadata": {
    "collapsed": false
   },
   "outputs": [
    {
     "name": "stdout",
     "output_type": "stream",
     "text": [
      "Whether you're new to programming or an experienced developer, it's easy to learn and use Python. does not contain Perl\n"
     ]
    }
   ],
   "source": [
    "# Check if an item 'does not' exist in a string (hint: look for my_item in my_string)...\n",
    "# else print \"{} contains {}\".format(my_string, my_item)\n",
    "\n",
    "my_string = \"Whether you're new to programming or an experienced developer, it's easy to learn and use Python.\"\n",
    "my_item = \"Perl\"\n",
    "if my_item in my_string:\n",
    "    print(\"{} exists in {}\".format(my_string, my_item))\n",
    "else:\n",
    "    print(\"{} does not contain {}\".format('my_string', my_item))"
   ]
  },
  {
   "cell_type": "markdown",
   "metadata": {},
   "source": [
    "#### Styling tip: annotate your codes so others can read and understand what your code is doing"
   ]
  },
  {
   "cell_type": "code",
   "execution_count": null,
   "metadata": {
    "collapsed": true
   },
   "outputs": [],
   "source": [
    "\"\"\" \n",
    "This is a Docstring. \n",
    "This script gives its opinion on weather.\n",
    "Below you can write codes and here \n",
    "the description of what your code does\n",
    "\"\"\"\n"
   ]
  },
  {
   "cell_type": "markdown",
   "metadata": {},
   "source": [
    "## Exercise - 3"
   ]
  },
  {
   "cell_type": "code",
   "execution_count": 27,
   "metadata": {
    "collapsed": false
   },
   "outputs": [
    {
     "name": "stdout",
     "output_type": "stream",
     "text": [
      "cheese was added to the list\n"
     ]
    }
   ],
   "source": [
    "# Given a list of items (shopping) check if a certain item (my_item) exists\n",
    "# else add that item to the list\n",
    "\n",
    "shopping = ['bread', 'potatoes', 'eggs', 'flour', 'rubber duck', 'pizza', 'milk']\n",
    "my_item = \"cheese\"\n",
    "if my_item in shopping:\n",
    "    print('{} exists in the list'.format(my_item))\n",
    "else:\n",
    "    shopping.append(my_item)\n",
    "    print('{} was added to the list'.format(my_item))"
   ]
  },
  {
   "cell_type": "markdown",
   "metadata": {},
   "source": [
    "## Exercise - 4 \n",
    "\n",
    "\n",
    "Make B.O.B (Basic Output Being) smarter by letting it differentiate 'yes' and 'no' and respond to the user accordingly.\n",
    "For example: if the answer to question2 is 'yes', then let B.O.B. help the user somehow, and if the answer is 'no', say goodbye already!"
   ]
  },
  {
   "cell_type": "code",
   "execution_count": 32,
   "metadata": {
    "collapsed": false
   },
   "outputs": [
    {
     "name": "stdout",
     "output_type": "stream",
     "text": [
      "Hi Human, I am B.O.B. What is your name? Malvika\n",
      "Thats a lovely name! \n",
      "Can I help you? Please answer in 'yes' of 'no'. yes\n",
      "I can't help you. I am a computer, not a human. \n",
      "Did you like that information? Please answer in 'yes' of 'no'. no\n",
      "Sorry!\n"
     ]
    }
   ],
   "source": [
    "hello = \"Hi Human, I am B.O.B. \"\n",
    "question1 = \"What is your name? \"\n",
    "response1 = \"Thats a lovely name! \"\n",
    "input(hello+question1)\n",
    "print(response1)\n",
    "\n",
    "answer_type = \"Please answer in 'yes' of 'no'. \"\n",
    "question2 = \"Can I help you? \"\n",
    "response2 = \"I am a computer, not a human. \"\n",
    "goodbye = \"Great. Goodbye! \"\n",
    "question3 = \"Did you like that information? \"\n",
    "answer2 = input(question2+answer_type)\n",
    "if answer2 == 'yes':\n",
    "    print(\"I can't help you.\", response2)\n",
    "    answer3 = input(question3+answer_type)\n",
    "    if answer3 == 'yes':\n",
    "        print(goodbye)\n",
    "    elif answer3 == 'no':\n",
    "        print(\"Sorry!\")\n",
    "    else:\n",
    "        print(\"I did not understand you.\")\n",
    "elif answer2 == 'no':\n",
    "    print(goodbye)\n",
    "else:\n",
    "    print(\"I did not understand you.\")"
   ]
  },
  {
   "cell_type": "markdown",
   "metadata": {},
   "source": [
    "## Exercise - 5\n",
    "\n",
    "Translate this flow chart into Python code.\n",
    "\n",
    "1. Start, get user's name\n",
    "2. check if the name is Rowan (if true, ask for password else print \"Access denied\")\n",
    "3. if the password is correct write 'welcome' else print 'incorrect'\n",
    "\n",
    "![if_flow_chart.png](flow_charts/if_flow_chart.png)\n",
    "\n",
    "Adapted from: http://usingpython.com/python-if-else-statements/"
   ]
  },
  {
   "cell_type": "code",
   "execution_count": 34,
   "metadata": {
    "collapsed": false
   },
   "outputs": [
    {
     "name": "stdout",
     "output_type": "stream",
     "text": [
      "Please provide your name: Malvika\n",
      "Access denied\n"
     ]
    }
   ],
   "source": [
    "#1. Start, get user's name\n",
    "user_name = input(\"Please provide your name: \")\n",
    "\n",
    "#2. check if the name is Rowen (if true, ask for password else print \"Access denied\")\n",
    "if user_name == 'Rowen':\n",
    "    #3. if the password is correct write 'welcome' else print 'incorrect'\n",
    "    #lets assume the password is 123456\n",
    "    password = input(\"Please provide your password: \")\n",
    "    if password == 123456:\n",
    "        print(\"Welcome\")\n",
    "    else:\n",
    "        print(\"Incorrect\")\n",
    "else:\n",
    "    print(\"Access denied\")"
   ]
  },
  {
   "cell_type": "markdown",
   "metadata": {},
   "source": [
    "## For loop\n",
    "\n",
    "`for` loops or `for ... in ...` statement is the most powerful way to tackle the repeated tasks."
   ]
  },
  {
   "cell_type": "markdown",
   "metadata": {},
   "source": [
    "### Example - 1"
   ]
  },
  {
   "cell_type": "code",
   "execution_count": 35,
   "metadata": {
    "collapsed": false
   },
   "outputs": [
    {
     "name": "stdout",
     "output_type": "stream",
     "text": [
      "4578\n",
      "9156\n",
      "13734\n",
      "18312\n"
     ]
    }
   ],
   "source": [
    "#use range to create a list of values\n",
    "\n",
    "for entry in range(1,5):\n",
    "    print(4578*entry)"
   ]
  },
  {
   "cell_type": "markdown",
   "metadata": {},
   "source": [
    "### Example - 2"
   ]
  },
  {
   "cell_type": "code",
   "execution_count": 36,
   "metadata": {
    "collapsed": false
   },
   "outputs": [
    {
     "name": "stdout",
     "output_type": "stream",
     "text": [
      "bread\n",
      "potatoes\n",
      "eggs\n",
      "flour\n",
      "rubber duck\n",
      "pizza\n",
      "milk\n"
     ]
    }
   ],
   "source": [
    "shopping = ['bread', 'potatoes', \n",
    "            'eggs', 'flour', \n",
    "            'rubber duck', 'pizza', \n",
    "            'milk']\n",
    "for each_item in shopping:\n",
    "    print(each_item)"
   ]
  },
  {
   "cell_type": "markdown",
   "metadata": {},
   "source": [
    "### Example - 3"
   ]
  },
  {
   "cell_type": "code",
   "execution_count": 41,
   "metadata": {
    "collapsed": false
   },
   "outputs": [
    {
     "name": "stdout",
     "output_type": "stream",
     "text": [
      "bread\n",
      "potatoes\n",
      "eggs\n",
      "flour\n",
      "rubber duck\n",
      "pizza\n",
      "milk\n",
      "bread\n",
      "potatoes\n",
      "eggs\n",
      "flour\n",
      "rubber duck\n",
      "pizza\n",
      "milk\n",
      "bread\n",
      "potatoes\n",
      "eggs\n",
      "flour\n",
      "rubber duck\n",
      "pizza\n",
      "milk\n"
     ]
    }
   ],
   "source": [
    "shopping_dict = {'item-0': 'bread', 'item-1': 'potatoes', \n",
    "                 'item-2': 'eggs', 'item-3': 'flour', \n",
    "                 'item-4': 'rubber duck', 'item-5': 'pizza', \n",
    "                 'item-6': 'milk'}\n",
    "#solution 1\n",
    "for each_entry in shopping_dict:\n",
    "    print(shopping_dict[each_entry])\n",
    "\n",
    "    \n",
    "#solution 2\n",
    "for each_key in shopping_dict.keys():\n",
    "    print(shopping_dict[each_key])\n",
    "    \n",
    "#solution 3\n",
    "for each_key, each_val in shopping_dict.items():\n",
    "    print(each_val)\n"
   ]
  },
  {
   "cell_type": "markdown",
   "metadata": {},
   "source": [
    "### Example - 4"
   ]
  },
  {
   "cell_type": "code",
   "execution_count": 44,
   "metadata": {
    "collapsed": false
   },
   "outputs": [
    {
     "name": "stdout",
     "output_type": "stream",
     "text": [
      "['cheese', 'flour', 'eggs', 'spaghetti', 'sausages', 'bread']\n",
      "cheese is not in shopping\n",
      "spaghetti is not in shopping\n",
      "sausages is not in shopping\n",
      "['bread', 'potatoes', 'eggs', 'flour', 'rubber duck', 'pizza', 'milk', 'cheese', 'spaghetti', 'sausages']\n"
     ]
    }
   ],
   "source": [
    "shopping = ['bread', 'potatoes', \n",
    "            'eggs', 'flour', \n",
    "            'rubber duck', 'pizza', \n",
    "            'milk']\n",
    "extrashopping = ['cheese', 'flour', \n",
    "                 'eggs', 'spaghetti', \n",
    "                 'sausages', 'bread']\n",
    "# iterate through each item in the list extrashopping \n",
    "# if it is not in the list shopping then add it\n",
    "# print the new list shopping\n",
    "\n",
    "print(extrashopping)\n",
    "for each_item in extrashopping:\n",
    "    if each_item not in shopping:\n",
    "        print('%s is not in shopping' % each_item)\n",
    "        shopping.append(each_item)\n",
    "print(shopping)"
   ]
  },
  {
   "cell_type": "markdown",
   "metadata": {},
   "source": [
    "## Example - 5"
   ]
  },
  {
   "cell_type": "code",
   "execution_count": null,
   "metadata": {
    "collapsed": true
   },
   "outputs": [],
   "source": [
    "shopping = ['bread', 'potatoes', \n",
    "            'eggs', 'flour', \n",
    "            'rubber duck', 'pizza', \n",
    "            'milk']\n",
    "extrashopping = ['cheese', 'flour', \n",
    "                 'eggs', 'spaghetti', \n",
    "                 'sausages', 'bread']\n",
    "\n",
    "# Combining lists\n",
    "all_items = shopping + extrashopping\n",
    "print(all_items)\n",
    "# remove redundancy using set()\n",
    "unique_items = set(all_items)\n",
    "print(unique_items)\n",
    "# iterate through unique_items and print each item\n",
    "for uniq_item in unique_items:\n",
    "    print(uni)\n"
   ]
  },
  {
   "cell_type": "markdown",
   "metadata": {},
   "source": [
    "## Exercise - 6"
   ]
  },
  {
   "cell_type": "code",
   "execution_count": null,
   "metadata": {
    "collapsed": true
   },
   "outputs": [],
   "source": [
    "# (i) Change the program above to print out a message when a duplicate item is found. \n",
    "# To do this, you could add another if statement to see if the item is in the list. \n",
    "# Alternatively, you can add an else: clause to the existing if statement. \n",
    "# This will be executed when the condition in the if statement is false.\n"
   ]
  },
  {
   "cell_type": "markdown",
   "metadata": {},
   "source": [
    "(ii) The example illustrated above is not the only solution to adding items to a list, whilst checking for duplicates. From the three choices below, choose the version that would achieve the same goal:\n",
    "\n",
    "a)\n",
    "\n",
    "```\n",
    "shopping = ['bread', 'potatoes', \n",
    "            'eggs', 'flour', \n",
    "            'rubber duck', 'pizza', \n",
    "            'milk']\n",
    "extrashopping = ['cheese', 'flour', \n",
    "                 'eggs', 'spaghetti', \n",
    "                 'sausages', 'bread']\n",
    "for item in extrashopping:\n",
    "    if item not in shopping:   \n",
    "        print(item, \"is already in the list.\")\n",
    "    else: \n",
    "        shopping.append(item)\n",
    "print(shopping)\n",
    "```\n",
    "\n",
    "b)\n",
    "\n",
    "```\n",
    "shopping = ['bread', 'potatoes', \n",
    "            'eggs', 'flour', \n",
    "            'rubber duck', 'pizza', \n",
    "            'milk']\n",
    "extrashopping = ['cheese', 'flour', \n",
    "                 'eggs', 'spaghetti', \n",
    "                 'sausages', 'bread']\n",
    "for item in extrashopping:\n",
    "    if item in shopping:\n",
    "        shopping.append(item)\n",
    "    else: \n",
    "        print(item, \"is already in the list.\")\n",
    "print(shopping)\n",
    "```\n",
    "\n",
    "c)\n",
    "\n",
    "```\n",
    "shopping = ['bread', 'potatoes', \n",
    "            'eggs', 'flour', \n",
    "            'rubber duck', 'pizza', \n",
    "            'milk']\n",
    "extrashopping = ['cheese', 'flour', \n",
    "                 'eggs', 'spaghetti', \n",
    "                 'sausages', 'bread']\n",
    "for item in extrashopping:\n",
    "    if item in shopping:\n",
    "        print(item, \"is already in the list.\")\n",
    "    else: \n",
    "        shopping.append(item)\n",
    "print(shopping)\n",
    "```"
   ]
  },
  {
   "cell_type": "markdown",
   "metadata": {
    "collapsed": true
   },
   "source": [
    "## Exercise - 7 "
   ]
  },
  {
   "cell_type": "code",
   "execution_count": null,
   "metadata": {
    "collapsed": true
   },
   "outputs": [],
   "source": [
    "''' In the example below, we have changed the program so it prints out a formatted message \n",
    "for each of the items in the shopping list along with the amount that needs to be bought \n",
    "of that item. Parts of the program are missing. You need to fill them in '''\n",
    "\n",
    "shopping = ['bread', 'potatoes', 'eggs', 'flour', 'rubber duck', 'pizza', 'milk']\n",
    "amounts = ['1', '10', '12', '1', '2', '5', '1']\n",
    "--- i in range(len(---)):\n",
    "    s = 'I need to buy --- ---'.format(amounts[---], ---[i])\n",
    "    print(---)"
   ]
  }
 ],
 "metadata": {
  "kernelspec": {
   "display_name": "Python 3",
   "language": "python",
   "name": "python3"
  },
  "language_info": {
   "codemirror_mode": {
    "name": "ipython",
    "version": 3
   },
   "file_extension": ".py",
   "mimetype": "text/x-python",
   "name": "python",
   "nbconvert_exporter": "python",
   "pygments_lexer": "ipython3",
   "version": "3.6.0"
  }
 },
 "nbformat": 4,
 "nbformat_minor": 0
}
