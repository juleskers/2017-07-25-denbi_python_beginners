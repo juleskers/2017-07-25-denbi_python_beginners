{
 "cells": [
  {
   "cell_type": "code",
   "execution_count": 1,
   "metadata": {
    "collapsed": true
   },
   "outputs": [],
   "source": [
    "%matplotlib inline"
   ]
  },
  {
   "cell_type": "markdown",
   "metadata": {},
   "source": [
    "# Programming in Python"
   ]
  },
  {
   "cell_type": "markdown",
   "metadata": {},
   "source": [
    "## Session 1"
   ]
  },
  {
   "cell_type": "markdown",
   "metadata": {},
   "source": [
    "### Aim of the Session\n",
    "Learn/review the basics\n",
    "- what is ...\n",
    "- how to ..."
   ]
  },
  {
   "cell_type": "markdown",
   "metadata": {},
   "source": [
    "### 'Hello World!'"
   ]
  },
  {
   "cell_type": "code",
   "execution_count": 3,
   "metadata": {
    "collapsed": false
   },
   "outputs": [
    {
     "name": "stdout",
     "output_type": "stream",
     "text": [
      "Hello World\n",
      "print this\n"
     ]
    }
   ],
   "source": [
    "# the culturally-expected introductory statement\n",
    "print(\"Hello World\")\n",
    "print(\"print this\")"
   ]
  },
  {
   "cell_type": "code",
   "execution_count": 6,
   "metadata": {
    "collapsed": false
   },
   "outputs": [
    {
     "data": {
      "image/png": "[encoded data removed]",
      "text/plain": [
       "<matplotlib.figure.Figure at 0x119a2f470>"
      ]
     },
     "metadata": {},
     "output_type": "display_data"
    }
   ],
   "source": [
    "# an example of what you can achieve with Python in just a few lines\n",
    "import matplotlib.pyplot as plt\n",
    "x_axis = [10, 20, 30, 40, 50]\n",
    "y_axis = x_axis\n",
    "plt.plot(x_axis, y_axis)\n",
    "plt.show()"
   ]
  },
  {
   "cell_type": "markdown",
   "metadata": {},
   "source": [
    "### Literals"
   ]
  },
  {
   "cell_type": "markdown",
   "metadata": {},
   "source": [
    "Values of a _type_, presented literally"
   ]
  },
  {
   "cell_type": "code",
   "execution_count": 35,
   "metadata": {
    "collapsed": false
   },
   "outputs": [
    {
     "name": "stdout",
     "output_type": "stream",
     "text": [
      "42\n",
      "2.016\n",
      "Homo sapiens\n"
     ]
    }
   ],
   "source": [
    "# example        name       type designation\n",
    "print(42)             # integer    int\n",
    "print(2.016)          # float      float*\n",
    "print(\"Homo sapiens\") # string     str"
   ]
  },
  {
   "cell_type": "markdown",
   "metadata": {},
   "source": [
    "- int: whole numbers e.g. 1, 1000, 6000000000\n",
    "- float: 'floating point' non-whole numbers e.g. 1.9, 30.01, 10e3, 1e-3\n",
    "- string: ordered sequence of characters, enclosed in quotation marks (single, double, _triple_)"
   ]
  },
  {
   "cell_type": "code",
   "execution_count": 43,
   "metadata": {
    "collapsed": false
   },
   "outputs": [
    {
     "name": "stdout",
     "output_type": "stream",
     "text": [
      "42.0\n",
      "<class 'int'>\n"
     ]
    }
   ],
   "source": [
    "# type conversions\n",
    "print(float(42))\n",
    "print(type(int(2.016)))"
   ]
  },
  {
   "cell_type": "markdown",
   "metadata": {},
   "source": [
    "#### Aside - Comments\n",
    "\n",
    "Comments are preceded by a **#**, and are completely ignored by the python interpreter. \n",
    "Comments can be on their own line or after a line of code.\n",
    "\n",
    "Comments are an incredibly useful way to keep track of what you are doing in\n",
    "your code. Use comments to document what you do as much as possible, it will\n",
    "pay off in the long run.\n"
   ]
  },
  {
   "cell_type": "markdown",
   "metadata": {},
   "source": [
    "### Exercises 1"
   ]
  },
  {
   "cell_type": "code",
   "execution_count": 45,
   "metadata": {
    "collapsed": false
   },
   "outputs": [],
   "source": [
    "# print some strings\n",
    "print(\"word\")\n",
    "print(\"This is a sentence\")"
   ]
  },
  {
   "cell_type": "code",
   "execution_count": 7,
   "metadata": {
    "collapsed": false
   },
   "outputs": [
    {
     "name": "stdout",
     "output_type": "stream",
     "text": [
      "99\n",
      "99.99\n",
      "<class 'int'> <class 'float'>\n",
      "99 99.0\n"
     ]
    }
   ],
   "source": [
    "# print some numbers (ints or floats)\n",
    "print(99)\n",
    "print(99.99)\n",
    "print(type(99), type(99.99))\n",
    "print(int(99.99), float(99))"
   ]
  },
  {
   "cell_type": "code",
   "execution_count": 8,
   "metadata": {
    "collapsed": false
   },
   "outputs": [
    {
     "name": "stdout",
     "output_type": "stream",
     "text": [
      "1 29.9 YourName\n"
     ]
    }
   ],
   "source": [
    "# print multiple values of different types all at once\n",
    "#   (hints: use comma to separate values with a space, or + to join strings)\n",
    "print(1, 29.9, \"YourName\")"
   ]
  },
  {
   "cell_type": "code",
   "execution_count": 9,
   "metadata": {
    "collapsed": false
   },
   "outputs": [
    {
     "name": "stdout",
     "output_type": "stream",
     "text": [
      "\"YourName\"\n"
     ]
    }
   ],
   "source": [
    "# print a string containing quote marks\n",
    "print('\"YourName\"')"
   ]
  },
  {
   "cell_type": "markdown",
   "metadata": {},
   "source": [
    "### Variables"
   ]
  },
  {
   "cell_type": "markdown",
   "metadata": {},
   "source": [
    "Store values (information) in memory, and (re-)use them. We give variables names (identifiers) so that we have a means of referring to the information on demand."
   ]
  },
  {
   "cell_type": "code",
   "execution_count": 56,
   "metadata": {
    "collapsed": false
   },
   "outputs": [
    {
     "name": "stdout",
     "output_type": "stream",
     "text": [
      "a\n"
     ]
    }
   ],
   "source": [
    "# variable assignment is done with '='\n",
    "my_variable = \"this\"\n",
    "my_variable = \"that\"\n",
    "a = 1\n",
    "b = \"a\"\n",
    "a = \"this\"\n",
    "print(b)"
   ]
  },
  {
   "cell_type": "markdown",
   "metadata": {},
   "source": [
    "#### Variable naming\n",
    "Rules:\n",
    "\n",
    "- identifier lookup is case-sensitive\n",
    "  - `myname` & `MyName` are different\n",
    "- must be unique in your working environment\n",
    "  - existing variable will be __over-written without warning__\n",
    "- cannot start with a number, or any special symbol (e.g. $, %, @, -, etc...) except for \"_\" (underscore), which is OK.\n",
    "- cannot have any spaces or special characters (except for \"-\" (hyphen) and \"_\" (underscore))\n",
    "\n",
    "Conventions/good practice:\n",
    "\n",
    "- identifiers (usually) begin with a lowercase letter\n",
    "- followed by letters, numbers, underscores\n",
    "- use a strategy to make reading easier\n",
    "  - `myName`\n",
    "  - `exciting_variable`\n",
    "- long, descriptive > short, vague"
   ]
  },
  {
   "cell_type": "markdown",
   "metadata": {},
   "source": [
    "### String Formatting\n",
    "Create formatted strings, with variable values substituted in."
   ]
  },
  {
   "cell_type": "code",
   "execution_count": 11,
   "metadata": {
    "collapsed": false
   },
   "outputs": [
    {
     "name": "stdout",
     "output_type": "stream",
     "text": [
      "Florence is 73 years old\n",
      "Florence is 73 years old\n"
     ]
    }
   ],
   "source": [
    "# two ways to do it in Python\n",
    "name = 'Florence'\n",
    "age = 73\n",
    "print('%s is %d years old' % (name, age)) # common amongst many programming languages\n",
    "\n",
    "print('{} is {} years old'.format(name, age)) # perhaps more consistent with stardard Python syntax"
   ]
  },
  {
   "cell_type": "markdown",
   "metadata": {},
   "source": [
    "### Operators & Operands"
   ]
  },
  {
   "cell_type": "markdown",
   "metadata": {},
   "source": [
    "Using Python as a calculator: `+`, `-`, `/`, `*` etc are _operators_, the values/variables that they work on are _operands_."
   ]
  },
  {
   "cell_type": "code",
   "execution_count": 12,
   "metadata": {
    "collapsed": false
   },
   "outputs": [
    {
     "name": "stdout",
     "output_type": "stream",
     "text": [
      "275.89\n",
      "80.11\n",
      "17424.420000000002\n",
      "1.9661381314457013e+220\n",
      "1.8183675554193481\n",
      "80.11\n",
      "True\n",
      "False\n",
      "False\n",
      "True\n",
      "True\n",
      "False\n",
      "XXX\n"
     ]
    }
   ],
   "source": [
    "# define two variables x and y\n",
    "x = 178\n",
    "y = 97.89\n",
    "\n",
    "# standard mathematical operations can be performed in Python\n",
    "print(x+y)\n",
    "print(x-y)\n",
    "print(x*y)\n",
    "print(x**y)\n",
    "print(x/y)\n",
    "print(x%y)\n",
    "\n",
    "# and some less common ones\n",
    "print(x>y)\n",
    "print(x<y)\n",
    "print(x==y)\n",
    "print(x!=y)\n",
    "print(x>=y)\n",
    "print(x<=y)\n",
    "print('X'*3)\n"
   ]
  },
  {
   "cell_type": "code",
   "execution_count": 14,
   "metadata": {
    "collapsed": false
   },
   "outputs": [
    {
     "data": {
      "text/plain": [
       "293.67"
      ]
     },
     "execution_count": 14,
     "metadata": {},
     "output_type": "execute_result"
    }
   ],
   "source": [
    "# operands cab be overwritten\n",
    "\n",
    "x = x*3 \n",
    "x\n",
    "y *= 3\n",
    "y"
   ]
  },
  {
   "cell_type": "markdown",
   "metadata": {},
   "source": [
    "_Note: check out numpy, scipy, stats modules if you want to do a lot of maths_"
   ]
  },
  {
   "cell_type": "markdown",
   "metadata": {},
   "source": [
    "### Data Structures"
   ]
  },
  {
   "cell_type": "markdown",
   "metadata": {},
   "source": [
    "Programming generally requires building/working with much larger and more complex sets of data than the single values/words/sentences that we have looked at so far. In fact, finding ways to operate effectively (and efficiently) on complex structures in order to extract/produce information, _is_ (data) programming.\n",
    "\n",
    "Python has two most commonly-used structures for storing multiple pieces of data - _lists_ and _dictionaries_. Let's look at these, and a few more, now."
   ]
  },
  {
   "cell_type": "markdown",
   "metadata": {},
   "source": [
    "#### Lists"
   ]
  },
  {
   "cell_type": "code",
   "execution_count": 91,
   "metadata": {
    "collapsed": false
   },
   "outputs": [
    {
     "name": "stdout",
     "output_type": "stream",
     "text": [
      "['entry1', 'entry2', 'entry3', 'entry4', 'new_entry']\n"
     ]
    }
   ],
   "source": [
    "# sequence of entries, in order and of any type\n",
    "numbers    = [32, 72, 42]\n",
    "mixed_list = [1, 'b', 3.0, 'd']\n",
    "\n",
    "empty_list = []\n",
    "another_empty_list = list()\n",
    "\n",
    "letters = list('abcdefghi')\n",
    "\n",
    "#print(letters)\n",
    "\n",
    "# accessing list entries\n",
    "letters[3], letters[4]\n",
    "letters[-1]\n",
    "\n",
    "# adding/removing entries\n",
    "empty_list.append(\"entry1\")\n",
    "empty_list.append(\"entry2\")\n",
    "empty_list.extend([\"entry3\", \"entry4\"])\n",
    "empty_list.insert(2, \"new_entry\")\n",
    "\n",
    "# changing the order of entries\n",
    "empty_list.reverse()\n",
    "print(sorted(empty_list))\n"
   ]
  },
  {
   "cell_type": "markdown",
   "metadata": {},
   "source": [
    "#### Objects, Methods, and How To Get Help"
   ]
  },
  {
   "cell_type": "markdown",
   "metadata": {},
   "source": [
    "In Python, everything is an _object_ - some value(s), packaged up with a set of things that can be done with/to it (___methods___), and pieces of information about it (___attributes___). This makes it very easy to perform the most commonly-needed operations for that/those type of value(s). The language has a standard syntax for accessing methods:"
   ]
  },
  {
   "cell_type": "code",
   "execution_count": 20,
   "metadata": {
    "collapsed": false
   },
   "outputs": [
    {
     "name": "stdout",
     "output_type": "stream",
     "text": [
      "I REMEMBER, STANDING BY THE WALL\n"
     ]
    }
   ],
   "source": [
    "string_object = 'I remember, standing by the wall'\n",
    "# methods - object.something()\n",
    "print(string_object.upper())\n",
    "# more..."
   ]
  },
  {
   "cell_type": "code",
   "execution_count": 21,
   "metadata": {
    "collapsed": false
   },
   "outputs": [
    {
     "name": "stdout",
     "output_type": "stream",
     "text": [
      "Help on class list in module builtins:\n",
      "\n",
      "class list(object)\n",
      " |  list() -> new empty list\n",
      " |  list(iterable) -> new list initialized from iterable's items\n",
      " |  \n",
      " |  Methods defined here:\n",
      " |  \n",
      " |  __add__(self, value, /)\n",
      " |      Return self+value.\n",
      " |  \n",
      " |  __contains__(self, key, /)\n",
      " |      Return key in self.\n",
      " |  \n",
      " |  __delitem__(self, key, /)\n",
      " |      Delete self[key].\n",
      " |  \n",
      " |  __eq__(self, value, /)\n",
      " |      Return self==value.\n",
      " |  \n",
      " |  __ge__(self, value, /)\n",
      " |      Return self>=value.\n",
      " |  \n",
      " |  __getattribute__(self, name, /)\n",
      " |      Return getattr(self, name).\n",
      " |  \n",
      " |  __getitem__(...)\n",
      " |      x.__getitem__(y) <==> x[y]\n",
      " |  \n",
      " |  __gt__(self, value, /)\n",
      " |      Return self>value.\n",
      " |  \n",
      " |  __iadd__(self, value, /)\n",
      " |      Implement self+=value.\n",
      " |  \n",
      " |  __imul__(self, value, /)\n",
      " |      Implement self*=value.\n",
      " |  \n",
      " |  __init__(self, /, *args, **kwargs)\n",
      " |      Initialize self.  See help(type(self)) for accurate signature.\n",
      " |  \n",
      " |  __iter__(self, /)\n",
      " |      Implement iter(self).\n",
      " |  \n",
      " |  __le__(self, value, /)\n",
      " |      Return self<=value.\n",
      " |  \n",
      " |  __len__(self, /)\n",
      " |      Return len(self).\n",
      " |  \n",
      " |  __lt__(self, value, /)\n",
      " |      Return self<value.\n",
      " |  \n",
      " |  __mul__(self, value, /)\n",
      " |      Return self*value.n\n",
      " |  \n",
      " |  __ne__(self, value, /)\n",
      " |      Return self!=value.\n",
      " |  \n",
      " |  __new__(*args, **kwargs) from builtins.type\n",
      " |      Create and return a new object.  See help(type) for accurate signature.\n",
      " |  \n",
      " |  __repr__(self, /)\n",
      " |      Return repr(self).\n",
      " |  \n",
      " |  __reversed__(...)\n",
      " |      L.__reversed__() -- return a reverse iterator over the list\n",
      " |  \n",
      " |  __rmul__(self, value, /)\n",
      " |      Return self*value.\n",
      " |  \n",
      " |  __setitem__(self, key, value, /)\n",
      " |      Set self[key] to value.\n",
      " |  \n",
      " |  __sizeof__(...)\n",
      " |      L.__sizeof__() -- size of L in memory, in bytes\n",
      " |  \n",
      " |  append(...)\n",
      " |      L.append(object) -> None -- append object to end\n",
      " |  \n",
      " |  clear(...)\n",
      " |      L.clear() -> None -- remove all items from L\n",
      " |  \n",
      " |  copy(...)\n",
      " |      L.copy() -> list -- a shallow copy of L\n",
      " |  \n",
      " |  count(...)\n",
      " |      L.count(value) -> integer -- return number of occurrences of value\n",
      " |  \n",
      " |  extend(...)\n",
      " |      L.extend(iterable) -> None -- extend list by appending elements from the iterable\n",
      " |  \n",
      " |  index(...)\n",
      " |      L.index(value, [start, [stop]]) -> integer -- return first index of value.\n",
      " |      Raises ValueError if the value is not present.\n",
      " |  \n",
      " |  insert(...)\n",
      " |      L.insert(index, object) -- insert object before index\n",
      " |  \n",
      " |  pop(...)\n",
      " |      L.pop([index]) -> item -- remove and return item at index (default last).\n",
      " |      Raises IndexError if list is empty or index is out of range.\n",
      " |  \n",
      " |  remove(...)\n",
      " |      L.remove(value) -> None -- remove first occurrence of value.\n",
      " |      Raises ValueError if the value is not present.\n",
      " |  \n",
      " |  reverse(...)\n",
      " |      L.reverse() -- reverse *IN PLACE*\n",
      " |  \n",
      " |  sort(...)\n",
      " |      L.sort(key=None, reverse=False) -> None -- stable sort *IN PLACE*\n",
      " |  \n",
      " |  ----------------------------------------------------------------------\n",
      " |  Data and other attributes defined here:\n",
      " |  \n",
      " |  __hash__ = None\n",
      "\n"
     ]
    }
   ],
   "source": [
    "#help()\n",
    "help(list)\n",
    "\n"
   ]
  },
  {
   "cell_type": "code",
   "execution_count": 16,
   "metadata": {
    "collapsed": false
   },
   "outputs": [
    {
     "data": {
      "text/plain": [
       "{1, 2, 3, 4, 5}"
      ]
     },
     "execution_count": 16,
     "metadata": {},
     "output_type": "execute_result"
    }
   ],
   "source": [
    "# sets\n",
    "list1 = [1, 2, 3, 4, 5, 3]\n",
    "list1[2]\n",
    "set(list1)"
   ]
  },
  {
   "cell_type": "markdown",
   "metadata": {},
   "source": [
    "### Exercises 2"
   ]
  },
  {
   "cell_type": "code",
   "execution_count": 17,
   "metadata": {
    "collapsed": false
   },
   "outputs": [
    {
     "name": "stdout",
     "output_type": "stream",
     "text": [
      "['Sandy', 'Pete', 'Richard', 'Rebecca', 'Sally']\n"
     ]
    }
   ],
   "source": [
    "# add 'Sally' to the list of students' names\n",
    "student_names = ['Sandy', 'Pete', 'Richard', 'Rebecca']\n",
    "student_names.append('Sally')\n",
    "print(student_names)"
   ]
  },
  {
   "cell_type": "code",
   "execution_count": 18,
   "metadata": {
    "collapsed": false
   },
   "outputs": [
    {
     "data": {
      "text/plain": [
       "'Rebecca'"
      ]
     },
     "execution_count": 18,
     "metadata": {},
     "output_type": "execute_result"
    }
   ],
   "source": [
    "# access the fourth entry of the list\n",
    "student_names[3] #index starts at 0"
   ]
  },
  {
   "cell_type": "code",
   "execution_count": 20,
   "metadata": {
    "collapsed": false
   },
   "outputs": [
    {
     "name": "stdout",
     "output_type": "stream",
     "text": [
      "['Sandy', 'Pete', 'Richard', 'Rebecca', 'Sally', 'Sam', 'Fiona', 'Sarah', 'Richard', 'Sarah', 'Matthew', 'Sam', 'Fiona', 'Sarah', 'Richard', 'Sarah', 'Matthew']\n"
     ]
    }
   ],
   "source": [
    "# join the list with a new list from another class\n",
    "other_student_names = ['Sam', 'Fiona', 'Sarah', 'Richard', 'Sarah', 'Matthew']\n",
    "student_names.extend(other_student_names)\n",
    "print(student_names)"
   ]
  },
  {
   "cell_type": "markdown",
   "metadata": {},
   "source": [
    "#### Dictionaries"
   ]
  },
  {
   "cell_type": "code",
   "execution_count": 37,
   "metadata": {
    "collapsed": false
   },
   "outputs": [
    {
     "name": "stdout",
     "output_type": "stream",
     "text": [
      "{'key1': 'value1', 'key2': 89, 'key35': 9874.8785}\n",
      "{'Alessio': 67, 'Nic': 48, 'Georg': 68, 'newStudent': 97.89}\n",
      "{'Alessio': 67, 'Nic': 48, 'Georg': 68, 'newStudent': 97.89}\n",
      "{'Alessio': 67, 'Nic': 48, 'Georg': 68}\n",
      "{'Alessio': 67, 'Nic': 48}\n",
      "{}\n",
      "{'Alessio': 67, 'Nic': 48, 'Georg': 68, 'newStudent': 97.89}\n"
     ]
    }
   ],
   "source": [
    "# collection of paired information - keys and values\n",
    "directory_1 = {'key1' : 'value1', 'key2' : 89, 'key35' : 9874.8785}\n",
    "print(directory_1)\n",
    "\n",
    "#functional example\n",
    "student_marks = {'Alessio': 67, 'Nic': 48, 'Georg': 68}\n",
    "empty_dict = {}\n",
    "another_empty_dict = dict()\n",
    "\n",
    "# accessing dict entries, keys act as indexes\n",
    "student_marks['Nic']\n",
    "\n",
    "# adding/changing/deleting entries\n",
    "student_marks['newStudent'] = 97 # adding new entry\n",
    "student_marks['newStudent'] = 97.89 #changing value of the new entry\n",
    "print(student_marks)\n",
    "copy_student_marks = student_marks.copy()\n",
    "print(copy_student_marks)\n",
    "student_marks.popitem() #randomly removes one entry\n",
    "print(student_marks)\n",
    "student_marks.popitem() #randomly removes one entry\n",
    "print(student_marks)\n",
    "student_marks.clear() #empties the dictionary\n",
    "print(student_marks)\n",
    "print(copy_student_marks) #the copy of the dictionary does not get affected by this"
   ]
  },
  {
   "cell_type": "markdown",
   "metadata": {},
   "source": [
    "#### Mutable?"
   ]
  },
  {
   "cell_type": "markdown",
   "metadata": {},
   "source": [
    "Object types can be divided into two categories - mutable & immutable. _Mutable_ objects can be changed 'in-place' - their value can be updated, added to, re-ordered etc without the need to create a whole new object every time. _Immutable_ types cannot be changed in place - once they have a value, this value cannot be altered. though, of course, it can __always__ be overwritten."
   ]
  },
  {
   "cell_type": "code",
   "execution_count": 1,
   "metadata": {
    "collapsed": false
   },
   "outputs": [],
   "source": [
    "# lists are mutable\n",
    "cities = ['Nairobi', 'Vancouver', 'Wellington', 'Beijing']\n",
    "cities[2] = 'Heidelberg'"
   ]
  },
  {
   "cell_type": "code",
   "execution_count": 8,
   "metadata": {
    "collapsed": false
   },
   "outputs": [],
   "source": [
    "# strings are immutable\n",
    "beatles = \"I'd like to be under the sea\"\n",
    "# print(beatles[6])"
   ]
  },
  {
   "cell_type": "markdown",
   "metadata": {},
   "source": [
    "### Looping"
   ]
  },
  {
   "cell_type": "markdown",
   "metadata": {},
   "source": [
    "Time for some real programming. The biggest motivation for researches to learn a programming language is the opportunity to automate repetitive tasks and analyses.\n",
    "\n",
    "For loops define a set of steps that will be carried out for all items in a sequence. The items in the sequence will be taken one-at-a-time, and the loop performed, until there are no more items to process."
   ]
  },
  {
   "cell_type": "code",
   "execution_count": 39,
   "metadata": {
    "collapsed": false
   },
   "outputs": [
    {
     "name": "stdout",
     "output_type": "stream",
     "text": [
      "Spring\n",
      "Summer\n",
      "Autumn\n",
      "Winter\n"
     ]
    }
   ],
   "source": [
    "# see this part in detail in th enext notebook\n",
    "for season in ['Spring', 'Summer', 'Autumn', 'Winter']:\n",
    "    print(season)"
   ]
  },
  {
   "cell_type": "code",
   "execution_count": 40,
   "metadata": {
    "collapsed": false
   },
   "outputs": [
    {
     "name": "stdout",
     "output_type": "stream",
     "text": [
      "P\n",
      "Y\n",
      "T\n",
      "H\n",
      "O\n",
      "N\n",
      "Finished\n"
     ]
    }
   ],
   "source": [
    "word = 'python'\n",
    "for letter in word:\n",
    "    print(letter.upper())\n",
    "print(\"Finished\")"
   ]
  },
  {
   "cell_type": "code",
   "execution_count": 54,
   "metadata": {
    "collapsed": false
   },
   "outputs": [
    {
     "name": "stdout",
     "output_type": "stream",
     "text": [
      "\n",
      "Spring\n",
      "SpringSpring\n",
      "\n",
      "Summer\n",
      "SummerSummer\n",
      "\n",
      "Autumn\n",
      "AutumnAutumn\n",
      "\n",
      "Winter\n",
      "WinterWinter\n",
      "4\n",
      "{'Spring': 'April', 'Summer': 'June', 'Autumn': 'September', 'Winter': 'December'}\n",
      "(0, 'Spring')\n",
      "(1, 'Summer')\n",
      "(2, 'Autumn')\n",
      "(3, 'Winter')\n"
     ]
    }
   ],
   "source": [
    "# iterating through two lists simultaneously\n",
    "season_list = ['Spring', 'Summer', 'Autumn', 'Winter']\n",
    "# range\n",
    "for i in season_list:\n",
    "    for j in range(3): #range skips the last value\n",
    "        print(i*j)\n",
    "\n",
    "# length of a list\n",
    "print(len(season_list))\n",
    "\n",
    "#zip\n",
    "start_month = ['April', 'June', 'September', 'December']\n",
    "season_start_month = dict(zip(season_list, start_month))\n",
    "print(season_start_month)\n",
    "\n",
    "# enumerate\n",
    "for i in enumerate(season_start_month):\n",
    "    print(i)"
   ]
  },
  {
   "cell_type": "code",
   "execution_count": 55,
   "metadata": {
    "collapsed": false
   },
   "outputs": [
    {
     "name": "stdout",
     "output_type": "stream",
     "text": [
      "[0, 2, 4, 6, 8, 10, 12, 14, 16, 18] [0, 1, 4, 9, 16, 25, 36, 49, 64, 81]\n"
     ]
    }
   ],
   "source": [
    "# list comprehensions\n",
    "ex_one = [x*2 for x in range(10)]\n",
    "ex_two = [x**2 for x in range(10)]\n",
    "print(ex_one, ex_two)"
   ]
  },
  {
   "cell_type": "markdown",
   "metadata": {},
   "source": [
    "### Conditionals - if, elif, else"
   ]
  },
  {
   "cell_type": "markdown",
   "metadata": {},
   "source": [
    "Looping allows you to perform a common set of operations on multiple pieces of data very quickly. But what if you want to treat the pieces differently, depending on some property or other of the objects?\n",
    "\n",
    "This is the other central part of programming: testing for certain circumstances and changing the treatment of pieces of data accordingly. It is known as _flow control_, as you are controlling the flow of data through your script of operations."
   ]
  },
  {
   "cell_type": "markdown",
   "metadata": {},
   "source": [
    "#### if - elif - else"
   ]
  },
  {
   "cell_type": "code",
   "execution_count": 62,
   "metadata": {
    "collapsed": false
   },
   "outputs": [
    {
     "name": "stdout",
     "output_type": "stream",
     "text": [
      "True\n",
      "False\n",
      "new temperature is: 26\n"
     ]
    }
   ],
   "source": [
    "# use if statements to test for a condition\n",
    "temperature = 26\n",
    "if temperature:\n",
    "    print(True)\n",
    "\n",
    "# use else to dictate what happens when the condition isn't met\n",
    "temperature = 0\n",
    "if temperature:\n",
    "    print(True)\n",
    "else:\n",
    "    print(False)\n",
    "    temperature = 26\n",
    "    print('new temperature is:', temperature)\n",
    "\n",
    "# use elif to add more conditionals\n"
   ]
  },
  {
   "cell_type": "code",
   "execution_count": 65,
   "metadata": {
    "collapsed": false
   },
   "outputs": [
    {
     "name": "stdout",
     "output_type": "stream",
     "text": [
      "1 1 True\n",
      "9 1 True\n",
      "25 1 True\n",
      "49 1 True\n",
      "81 1 True\n"
     ]
    }
   ],
   "source": [
    "# list comprehensions with conditionals\n",
    "ex_two = [x**2 for x in range(10)]\n",
    "for vals in ex_two:\n",
    "    if vals%2:\n",
    "        print(vals, vals%2, True)\n"
   ]
  },
  {
   "cell_type": "code",
   "execution_count": null,
   "metadata": {
    "collapsed": true
   },
   "outputs": [],
   "source": []
  }
 ],
 "metadata": {
  "kernelspec": {
   "display_name": "Python 3",
   "language": "python",
   "name": "python3"
  },
  "language_info": {
   "codemirror_mode": {
    "name": "ipython",
    "version": 3
   },
   "file_extension": ".py",
   "mimetype": "text/x-python",
   "name": "python",
   "nbconvert_exporter": "python",
   "pygments_lexer": "ipython3",
   "version": "3.6.0"
  }
 },
 "nbformat": 4,
 "nbformat_minor": 1
}
